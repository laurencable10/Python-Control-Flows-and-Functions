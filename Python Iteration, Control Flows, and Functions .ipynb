{
 "cells": [
  {
   "cell_type": "markdown",
   "metadata": {},
   "source": [
    "# Python Iteration, Control Flows, and Functions\n",
    "\n",
    "\n",
    "---\n",
    "## If-Else Statements \n",
    "\n",
    "### Write an if-else statement to check whether the suitcase is over 50lb.\n",
    "\n",
    "- Whether or not the suitcase is over 50lbs."
   ]
  },
  {
   "cell_type": "code",
   "execution_count": 1,
   "metadata": {},
   "outputs": [
    {
     "name": "stdout",
     "output_type": "stream",
     "text": [
      "How many pounds does your suitcase weigh? 50\n"
     ]
    }
   ],
   "source": [
    "weight = float(input(\"How many pounds does your suitcase weigh? \"))"
   ]
  },
  {
   "cell_type": "code",
   "execution_count": 2,
   "metadata": {},
   "outputs": [
    {
     "name": "stdout",
     "output_type": "stream",
     "text": [
      "Suitcase does not weigh more than 50 pounds\n"
     ]
    }
   ],
   "source": [
    "if weight > 50:\n",
    "    print('Suitcase weighs more than 50 pounds')\n",
    "else:\n",
    "    print('Suitcase does not weigh more than 50 pounds')"
   ]
  },
  {
   "cell_type": "markdown",
   "metadata": {},
   "source": [
    "### Write an if-else statement for multiple conditions.\n",
    "\n",
    "- The temperature is higher than 60 degrees and it is raining: Bring an umbrella.\n",
    "- The temperature is lower than or equal to 60 degrees and it is raining: Bring an umbrella and a jacket.\n",
    "- The temperature is higher than 60 degrees and the sun is shining: Wear a T-shirt.\n",
    "- The temperature is lower than or equal to 60 degrees and the sun is shining: Bring a jacket."
   ]
  },
  {
   "cell_type": "code",
   "execution_count": 3,
   "metadata": {},
   "outputs": [
    {
     "name": "stdout",
     "output_type": "stream",
     "text": [
      "What is the temperature? 80\n",
      "What is the weather? (rain or shine) shine\n"
     ]
    }
   ],
   "source": [
    "temperature = float(input('What is the temperature? '))\n",
    "weather = input('What is the weather? (rain or shine) ')"
   ]
  },
  {
   "cell_type": "code",
   "execution_count": 4,
   "metadata": {},
   "outputs": [
    {
     "name": "stdout",
     "output_type": "stream",
     "text": [
      "Wear a T-shirt\n"
     ]
    }
   ],
   "source": [
    "if temperature > 60:\n",
    "    if weather == 'rain':\n",
    "        print('Bring an umbrella')\n",
    "    elif weather == 'shine':\n",
    "        print('Wear a T-shirt')\n",
    "else:\n",
    "    if weather == 'rain':\n",
    "        print('Bring an umbrella and a jacket')\n",
    "    else:\n",
    "        print('Bring a jacket')    "
   ]
  },
  {
   "cell_type": "markdown",
   "metadata": {},
   "source": [
    "---\n",
    "## For Loops \n",
    "\n",
    "### Write a `for`-loop that iterates from the number 1 to the number 15."
   ]
  },
  {
   "cell_type": "code",
   "execution_count": 5,
   "metadata": {},
   "outputs": [
    {
     "name": "stdout",
     "output_type": "stream",
     "text": [
      "1\n",
      "2\n",
      "3\n",
      "4\n",
      "5\n",
      "6\n",
      "7\n",
      "8\n",
      "9\n",
      "10\n",
      "11\n",
      "12\n",
      "13\n",
      "14\n",
      "15\n"
     ]
    }
   ],
   "source": [
    "for i in range(1,16):\n",
    "    print(i)"
   ]
  },
  {
   "cell_type": "markdown",
   "metadata": {},
   "source": [
    "### Iterate from 1 to 15, printing whether the number is odd or even."
   ]
  },
  {
   "cell_type": "code",
   "execution_count": 6,
   "metadata": {},
   "outputs": [
    {
     "name": "stdout",
     "output_type": "stream",
     "text": [
      "1 odd\n",
      "2 even\n",
      "3 odd\n",
      "4 even\n",
      "5 odd\n",
      "6 even\n",
      "7 odd\n",
      "8 even\n",
      "9 odd\n",
      "10 even\n",
      "11 odd\n",
      "12 even\n",
      "13 odd\n",
      "14 even\n",
      "15 odd\n"
     ]
    }
   ],
   "source": [
    "for i in range(1,16):\n",
    "    if i % 2 == 0:\n",
    "        print(i,'even')\n",
    "    else:\n",
    "        print(i,'odd')"
   ]
  },
  {
   "cell_type": "markdown",
   "metadata": {},
   "source": [
    "### Iterate from 1 to 30 with the following instructions:\n",
    "\n",
    "- If a number is divisible by 3, print 'fizz'.\n",
    "- If a number is divisible by 5, print 'buzz'.\n",
    "- If a number is both divisible by 3 and 5 print 'fizzbuzz'.\n",
    "- Otherwise, print just the number."
   ]
  },
  {
   "cell_type": "code",
   "execution_count": 7,
   "metadata": {},
   "outputs": [
    {
     "name": "stdout",
     "output_type": "stream",
     "text": [
      "1\n",
      "2\n",
      "fizz\n",
      "4\n",
      "buzz\n",
      "fizz\n",
      "7\n",
      "8\n",
      "fizz\n",
      "buzz\n",
      "11\n",
      "fizz\n",
      "13\n",
      "14\n",
      "fizzbuzz\n",
      "16\n",
      "17\n",
      "fizz\n",
      "19\n",
      "buzz\n",
      "fizz\n",
      "22\n",
      "23\n",
      "fizz\n",
      "buzz\n",
      "26\n",
      "fizz\n",
      "28\n",
      "29\n",
      "fizzbuzz\n"
     ]
    }
   ],
   "source": [
    "for i in range(1,31):\n",
    "    if (i % 3 == 0) and (i % 5 == 0):\n",
    "        print('fizzbuzz')\n",
    "    elif (i % 3 == 0):\n",
    "        print('fizz')\n",
    "    elif (i % 5 == 0):\n",
    "        print('buzz')\n",
    "    else:\n",
    "        print(i)"
   ]
  },
  {
   "cell_type": "markdown",
   "metadata": {},
   "source": [
    "### Iterate through the following list of animals, and print each one in all caps."
   ]
  },
  {
   "cell_type": "code",
   "execution_count": 8,
   "metadata": {
    "collapsed": true
   },
   "outputs": [],
   "source": [
    "animals = ['duck', 'rat', 'boar', 'slug', 'mammoth', 'gazelle']"
   ]
  },
  {
   "cell_type": "code",
   "execution_count": 9,
   "metadata": {},
   "outputs": [
    {
     "name": "stdout",
     "output_type": "stream",
     "text": [
      "DUCK\n",
      "RAT\n",
      "BOAR\n",
      "SLUG\n",
      "MAMMOTH\n",
      "GAZELLE\n"
     ]
    }
   ],
   "source": [
    "for animal in animals:\n",
    "    print(animal.upper())"
   ]
  },
  {
   "cell_type": "markdown",
   "metadata": {},
   "source": [
    "### Iterate through the animals list. Capitalize the first letter and append the modified animals to a new list."
   ]
  },
  {
   "cell_type": "code",
   "execution_count": 10,
   "metadata": {},
   "outputs": [
    {
     "name": "stdout",
     "output_type": "stream",
     "text": [
      "['Duck', 'Rat', 'Boar', 'Slug', 'Mammoth', 'Gazelle']\n"
     ]
    }
   ],
   "source": [
    "cap_animals = []\n",
    "for animal in animals:\n",
    "    cap_animal = animal[0].upper() + animal[1:]\n",
    "    cap_animals.append(cap_animal)\n",
    "print(cap_animals)"
   ]
  },
  {
   "cell_type": "markdown",
   "metadata": {},
   "source": [
    "### Iterate through the animals. Print out the animal name and the number of vowels in the name."
   ]
  },
  {
   "cell_type": "code",
   "execution_count": 11,
   "metadata": {},
   "outputs": [
    {
     "name": "stdout",
     "output_type": "stream",
     "text": [
      "duck 1\n",
      "rat 1\n",
      "boar 2\n",
      "slug 1\n",
      "mammoth 2\n",
      "gazelle 3\n"
     ]
    }
   ],
   "source": [
    "vowels = 'aeiou'\n",
    "for animal in animals:\n",
    "    vowel_count = 0\n",
    "    for character in animal:\n",
    "        if character in vowels:\n",
    "            vowel_count += 1\n",
    "    print(animal, vowel_count)"
   ]
  },
  {
   "cell_type": "markdown",
   "metadata": {},
   "source": [
    "---\n",
    "# While Loops\n",
    "\n",
    "### While loops and Strings\n",
    "\n",
    "- Iterate over the sentence repeatedly, counting the number of vowels in the sentence until you have tallied one million. \n",
    "- Print out the number of iterations it took to reach that amount."
   ]
  },
  {
   "cell_type": "code",
   "execution_count": 12,
   "metadata": {
    "collapsed": true
   },
   "outputs": [],
   "source": [
    "sentence = \"A MAN KNOCKED ON MY DOOR AND ASKED FOR A SMALL DONATION TOWARDS THE LOCAL SWIMMING POOL SO I GAVE HIM A GLASS OF WATER\""
   ]
  },
  {
   "cell_type": "code",
   "execution_count": null,
   "metadata": {
    "collapsed": true
   },
   "outputs": [],
   "source": []
  },
  {
   "cell_type": "code",
   "execution_count": null,
   "metadata": {
    "collapsed": true
   },
   "outputs": [],
   "source": []
  }
 ],
 "metadata": {
  "kernelspec": {
   "display_name": "Python [default]",
   "language": "python",
   "name": "python3"
  },
  "language_info": {
   "codemirror_mode": {
    "name": "ipython",
    "version": 3
   },
   "file_extension": ".py",
   "mimetype": "text/x-python",
   "name": "python",
   "nbconvert_exporter": "python",
   "pygments_lexer": "ipython3",
   "version": "3.6.3"
  }
 },
 "nbformat": 4,
 "nbformat_minor": 2
}
